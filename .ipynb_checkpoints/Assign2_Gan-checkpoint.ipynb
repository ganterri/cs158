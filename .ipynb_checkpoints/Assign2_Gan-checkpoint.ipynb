{
 "cells": [
  {
   "cell_type": "markdown",
   "metadata": {},
   "source": [
    "151849 - Terri Gan - 26 Nov 2020"
   ]
  },
  {
   "cell_type": "markdown",
   "metadata": {},
   "source": [
    "# Assignment #3: Unconstrained Growth"
   ]
  },
  {
   "cell_type": "markdown",
   "metadata": {},
   "source": [
    "Using only numpy and mathplotlib"
   ]
  },
  {
   "cell_type": "code",
   "execution_count": 1,
   "metadata": {},
   "outputs": [],
   "source": [
    "import numpy as np\n",
    "import matplotlib.pyplot as plt\n",
    "%matplotlib inline"
   ]
  },
  {
   "cell_type": "markdown",
   "metadata": {},
   "source": [
    "## Given\n",
    "Initial population (*population*)=100.000000 \\\n",
    "Continuous growth rate (*growth_rate*)=0.1 per hour \\\n",
    "Time step ($\\Delta t$)=0.005h"
   ]
  },
  {
   "cell_type": "markdown",
   "metadata": {},
   "source": [
    "### Task_1\n",
    "*Show your simulation and value of the population:* \\\n",
    "*a. at population(0.050h)* \\\n",
    "*b. at population(20.000h)*"
   ]
  },
  {
   "cell_type": "markdown",
   "metadata": {},
   "source": [
    "Before anything, we first start with defining our x-axis and y-axis and their contents."
   ]
  },
  {
   "cell_type": "code",
   "execution_count": 2,
   "metadata": {},
   "outputs": [],
   "source": [
    "# x-axis -> timeStep consisting of the time step from 0 to 20.0 in 0.005 increments\n",
    "time_step = np.arange(0.000, 20.005, 0.005)\n",
    "\n",
    "# len(time_step) -> 4001\n",
    "# time_step[4000] -> 20.0"
   ]
  },
  {
   "cell_type": "code",
   "execution_count": 3,
   "metadata": {},
   "outputs": [
    {
     "data": {
      "text/plain": [
       "array([100.,   0.,   0., ...,   0.,   0.,   0.])"
      ]
     },
     "execution_count": 3,
     "metadata": {},
     "output_type": "execute_result"
    }
   ],
   "source": [
    "# y-axis -> population to be modified through the for loop in the next code block\n",
    "population = np.zeros(4001)\n",
    "population[0] = 100.000000\n",
    "\n",
    "# pre-modified population array consists of it's first content being the initial population while the others are 0\n",
    "population"
   ]
  },
  {
   "cell_type": "code",
   "execution_count": 4,
   "metadata": {},
   "outputs": [],
   "source": [
    "# modifying the population array with the formula\n",
    "# current_opulation = previous_population + (growth_rate * previous_population) * time_step\n",
    "for i in range(4001):\n",
    "    if population[i] == 100:\n",
    "        prevPop = population[i];\n",
    "    else:\n",
    "        population[i] = prevPop + 0.1 * prevPop *0.005\n",
    "        prevPop = population[i]"
   ]
  },
  {
   "cell_type": "code",
   "execution_count": 5,
   "metadata": {},
   "outputs": [
    {
     "data": {
      "text/plain": [
       "array([100.        , 100.05      , 100.100025  , ..., 737.79838964,\n",
       "       738.16728883, 738.53637248])"
      ]
     },
     "execution_count": 5,
     "metadata": {},
     "output_type": "execute_result"
    }
   ],
   "source": [
    "#modified popoluation array, and this is ready to be used!\n",
    "population"
   ]
  },
  {
   "cell_type": "code",
   "execution_count": 6,
   "metadata": {},
   "outputs": [
    {
     "data": {
      "text/plain": [
       "array([100.501127])"
      ]
     },
     "execution_count": 6,
     "metadata": {},
     "output_type": "execute_result"
    }
   ],
   "source": [
    "# for population(0.050h) to 6 decimal places\n",
    "np.around(population[np.where(time_step == 0.05)],6)"
   ]
  },
  {
   "cell_type": "code",
   "execution_count": 7,
   "metadata": {},
   "outputs": [
    {
     "data": {
      "text/plain": [
       "array([738.536372])"
      ]
     },
     "execution_count": 7,
     "metadata": {},
     "output_type": "execute_result"
    }
   ],
   "source": [
    "# for population(20.0h) to 6 decimal places\n",
    "np.around(population[np.where(time_step == 20.0)],6)"
   ]
  },
  {
   "cell_type": "markdown",
   "metadata": {},
   "source": [
    "### Task_2\n",
    "*Present the updated estimated population table vs time graph from t = 0.000h to 20.000h, using $\\Delta$t=0.005h*"
   ]
  },
  {
   "cell_type": "code",
   "execution_count": 8,
   "metadata": {},
   "outputs": [
    {
     "data": {
      "image/png": "[encoded data removed]",
      "text/plain": [
       "<Figure size 432x288 with 1 Axes>"
      ]
     },
     "metadata": {
      "needs_background": "light"
     },
     "output_type": "display_data"
    }
   ],
   "source": [
    "plt.plot(time_step, population, 'r')\n",
    "plt.xlabel('time step $\\Delta t$')\n",
    "plt.ylabel('estimated population')\n",
    "plt.title('estimated population vs time')\n",
    "plt.show()"
   ]
  },
  {
   "cell_type": "markdown",
   "metadata": {},
   "source": [
    "### Task_3\n",
    "*Discuss the trend of population growth from t=0.000h to 20.000h. Provide your analysis and insight with regard to the resulting trend.*"
   ]
  },
  {
   "cell_type": "markdown",
   "metadata": {},
   "source": [
    "The graph above presents an exponential curve in plotting out time step $\\Delta t$ across the estimated population. Estimated population at time t $population(t)$ is defined to be $$population(t)=population(t-\\Delta t)+population(\\Delta t)$$ wherein population at time $t$ is just the population at time $t-\\Delta t$ with the change in population $population(\\Delta t)$. \n",
    "\n",
    "Change in population is then defined to be $$population(\\Delta t) = growth(t)*\\Delta t$$ where $growth(t)=population(t-\\Delta t) * growth\\_rate$ is multiplied to $\\Delta t$. \n",
    "\n",
    "Growth (being $growth(t)$) being defined in the statement above shows its dependence to the size of the population in each incrementing time step, which means that the growth increases multiplicatively as the population increases. This results to the population increasing multiplicatively in each incrementing time steps, and consequently forming an exponential curve to define the growth in population."
   ]
  }
 ],
 "metadata": {
  "kernelspec": {
   "display_name": "Python 3",
   "language": "python",
   "name": "python3"
  },
  "language_info": {
   "codemirror_mode": {
    "name": "ipython",
    "version": 3
   },
   "file_extension": ".py",
   "mimetype": "text/x-python",
   "name": "python",
   "nbconvert_exporter": "python",
   "pygments_lexer": "ipython3",
   "version": "3.8.3"
  }
 },
 "nbformat": 4,
 "nbformat_minor": 4
}
