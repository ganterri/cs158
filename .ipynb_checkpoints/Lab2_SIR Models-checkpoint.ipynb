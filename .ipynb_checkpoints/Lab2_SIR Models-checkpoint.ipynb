{
 "cells": [
  {
   "cell_type": "markdown",
   "metadata": {},
   "source": [
    "# Module 2 Lab - Susceptible-Infectious-Recovered (SIR) models"
   ]
  },
  {
   "cell_type": "code",
   "execution_count": 1,
   "metadata": {},
   "outputs": [],
   "source": [
    "import matplotlib.pyplot as plt\n",
    "import numpy as np\n",
    "from scipy.integrate import solve_ivp"
   ]
  },
  {
   "cell_type": "code",
   "execution_count": 2,
   "metadata": {},
   "outputs": [
    {
     "data": {
      "image/png": "[encoded data removed]",
      "text/plain": [
       "<Figure size 432x288 with 1 Axes>"
      ]
     },
     "metadata": {
      "needs_background": "light"
     },
     "output_type": "display_data"
    }
   ],
   "source": [
    "# define the ode system as given in the problem\n",
    "def ode(t,y):\n",
    "    return np.array([y[1], np.sin(t) - 5*y[1] - y[0]])\n",
    "# where y[1] == y_2(t) and y[0] == y_1(t)\n",
    "\n",
    "# define the t0 and tf parameters (start and end time)\n",
    "t0 = 0\n",
    "tf = 3*np.pi\n",
    "\n",
    "# define the initial conditions\n",
    "y0 = np.array([0,1])\n",
    "\n",
    "# solve the system\n",
    "sol = solve_ivp(ode, (t0,tf), y0)\n",
    "\n",
    "# plot y_1 against y_2\n",
    "plt.plot(sol.y[0],sol.y[1])\n",
    "plt.xlabel('$y_1$')\n",
    "plt.ylabel('$y_2$')\n",
    "plt.show()"
   ]
  },
  {
   "cell_type": "markdown",
   "metadata": {},
   "source": [
    "## Problem 1"
   ]
  },
  {
   "cell_type": "code",
   "execution_count": 3,
   "metadata": {},
   "outputs": [
    {
     "ename": "NameError",
     "evalue": "name 'I_0' is not defined",
     "output_type": "error",
     "traceback": [
      "\u001b[1;31m---------------------------------------------------------------------------\u001b[0m",
      "\u001b[1;31mNameError\u001b[0m                                 Traceback (most recent call last)",
      "\u001b[1;32m<ipython-input-3-2357e67ba888>\u001b[0m in \u001b[0;36m<module>\u001b[1;34m\u001b[0m\n\u001b[0;32m     16\u001b[0m \u001b[1;33m\u001b[0m\u001b[0m\n\u001b[0;32m     17\u001b[0m \u001b[1;31m#define the initial conditions\u001b[0m\u001b[1;33m\u001b[0m\u001b[1;33m\u001b[0m\u001b[1;33m\u001b[0m\u001b[0m\n\u001b[1;32m---> 18\u001b[1;33m \u001b[0mS_0\u001b[0m \u001b[1;33m=\u001b[0m \u001b[0mN\u001b[0m\u001b[1;33m-\u001b[0m\u001b[0mI_0\u001b[0m\u001b[1;33m\u001b[0m\u001b[1;33m\u001b[0m\u001b[0m\n\u001b[0m\u001b[0;32m     19\u001b[0m \u001b[0mI_0\u001b[0m \u001b[1;33m=\u001b[0m \u001b[1;36m5\u001b[0m\u001b[1;33m\u001b[0m\u001b[1;33m\u001b[0m\u001b[0m\n\u001b[0;32m     20\u001b[0m \u001b[0mR_0\u001b[0m \u001b[1;33m=\u001b[0m \u001b[1;36m0\u001b[0m\u001b[1;33m\u001b[0m\u001b[1;33m\u001b[0m\u001b[0m\n",
      "\u001b[1;31mNameError\u001b[0m: name 'I_0' is not defined"
     ]
    }
   ],
   "source": [
    "# FOR UNIT OF TIME BEING A DAY\n",
    "\n",
    "# Given N, d, k, b\n",
    "N = 3_000_000\n",
    "d = 3\n",
    "k = 1\n",
    "b = 1\n",
    "\n",
    "# define the r, a parameters\n",
    "r = (k*b)/N\n",
    "a = 1/d\n",
    "\n",
    "# define the t0 and tf parameters\n",
    "t0 = 0\n",
    "tf = 50\n",
    "\n",
    "#define the initial conditions\n",
    "S_0 = N-I_0\n",
    "I_0 = 5\n",
    "R_0 = 0\n",
    "y0 = np.array([S_0, I_0, R_0])\n",
    "\n",
    "# define the ode system as given in the SIR problem\n",
    "def sir(t,y):\n",
    "    S = y[0]\n",
    "    I = y[1]\n",
    "    R = y[2]\n",
    "    \n",
    "    dS_dt = -r*S*I\n",
    "    dI_dt = r*S*I - a*I\n",
    "    dR_dt = a*I\n",
    "    \n",
    "    return np.array([dS_dt, dI_dt, dR_dt])\n",
    "\n",
    "# solve the system\n",
    "sol = solve_ivp(sir, (t0,tf), y0, t_eval=np.arange(t0, tf+0.1, 0.5))\n",
    "\n",
    "# plot t against y[0], y[1], and y[2]\n",
    "plt.plot(sol.t, sol.y[0]/N, 'black', label='Susceptible')\n",
    "plt.plot(sol.t, sol.y[1]/N, 'r', label='Infected')\n",
    "plt.plot(sol.t, sol.y[2]/N, 'blue', label='Recovered')\n",
    "plt.xlabel('T (days)')\n",
    "plt.ylabel('Proportion of Population')\n",
    "plt.title('With Unit Time as Per Day')\n",
    "plt.legend()\n",
    "plt.show()"
   ]
  },
  {
   "cell_type": "code",
   "execution_count": null,
   "metadata": {},
   "outputs": [],
   "source": [
    "#np.where(sol.y[1]==sol.y[1].max()) --> (array([42], dtype=int64),)\n",
    "\n",
    "#sol.t[42] --> 21st day\n",
    "\n",
    "#sol.y[0][42] --> 1032139.0533867332 ~ 1_032_139 susceptible people\n",
    "#sol.y[0][42]/3000000 -> 0.3440463511289111 ~ 34.40% \n",
    "\n",
    "#sol.y[2][42] --> 1066034.4275020997 ~ 1_066_034 recovered people\n",
    "#sol.y[2][42]/3000000 -> 0.35534480916736655 ~ 35.53%"
   ]
  },
  {
   "cell_type": "code",
   "execution_count": null,
   "metadata": {},
   "outputs": [],
   "source": [
    "# FOR UNIT OF TIME BEING HALF A DAY\n",
    "\n",
    "# Given N, d, k, b\n",
    "N = 3_000_000\n",
    "d = 6\n",
    "k = 0.5\n",
    "b = 1\n",
    "\n",
    "# define the r, a parameters\n",
    "r = (k*b)/N\n",
    "a = 1/d\n",
    "\n",
    "# define the t0 and tf parameters\n",
    "t0 = 0\n",
    "tf = 50\n",
    "\n",
    "#define the initial conditions\n",
    "S_0 = N-I_0\n",
    "I_0 = 5\n",
    "R_0 = 0\n",
    "y0 = np.array([S_0, I_0, R_0])\n",
    "\n",
    "# define the ode system as given in the SIR problem\n",
    "def sir(t,y):\n",
    "    S = y[0]\n",
    "    I = y[1]\n",
    "    R = y[2]\n",
    "    \n",
    "    dS_dt = -r*S*I\n",
    "    dI_dt = r*S*I - a*I\n",
    "    dR_dt = a*I\n",
    "    \n",
    "    return np.array([dS_dt, dI_dt, dR_dt])\n",
    "\n",
    "# solve the system\n",
    "sol = solve_ivp(sir, (t0,tf), y0, t_eval=np.arange(t0, tf+.1, 0.5))\n",
    "\n",
    "# plot t against y[0], y[1], and y[2]\n",
    "plt.plot(sol.t, sol.y[0]/N, 'black', label='Susceptible')\n",
    "plt.plot(sol.t, sol.y[1]/N, 'r', label='Infected')\n",
    "plt.plot(sol.t, sol.y[2]/N, 'blue', label='Recovered')\n",
    "plt.xlabel('T (days)')\n",
    "plt.ylabel('Proportion of Population')\n",
    "plt.title('With Unit Time as Per Half a Day')\n",
    "plt.legend()\n",
    "plt.show()"
   ]
  },
  {
   "cell_type": "code",
   "execution_count": null,
   "metadata": {},
   "outputs": [],
   "source": [
    "#np.where(sol.y[1]==sol.y[1].max()) --> (array([84], dtype=int64),)\n",
    "\n",
    "#sol.t[84] --> 42nd day\n",
    "\n",
    "#sol.y[0][84] --> 1032139.0533867332 ~ 1_032_139 susceptible people\n",
    "#sol.y[0][84]/N --> 0.34409517248082694 ~ 34.41% \n",
    "\n",
    "#sol.y[2][84] --> 1066034.4275020997 ~ 1_066_034 recovered people\n",
    "#sol.y[2][84]/N -> 0.35534480916736655 ~ 35.53%"
   ]
  },
  {
   "cell_type": "markdown",
   "metadata": {},
   "source": [
    "At the peak of the infection, which is the **21st** day (when unit of time is half a day) or **42nd** day (when unit of time is a day) of the 50 day timeline, the population who can still work are around 1,032,139 + 1,066,034 = **2,098,173** people, which makes up **69.94%** of the population."
   ]
  },
  {
   "cell_type": "markdown",
   "metadata": {},
   "source": [
    "## Problem 2"
   ]
  },
  {
   "cell_type": "code",
   "execution_count": null,
   "metadata": {},
   "outputs": [],
   "source": [
    "# USING b = 1\n",
    "\n",
    "# Given N, d, k, b\n",
    "N = 8_399_000\n",
    "d = 10\n",
    "k = 2.5\n",
    "b = 1\n",
    "\n",
    "# define the r, a parameters\n",
    "r = (k*b)/N\n",
    "a = 1/d\n",
    "\n",
    "# define the t0 and tf parameters\n",
    "t0 = 0\n",
    "tf = 150\n",
    "\n",
    "#define the initial conditions\n",
    "S_0 = N-I_0\n",
    "I_0 = 52\n",
    "R_0 = 0\n",
    "y0 = np.array([S_0, I_0, R_0])\n",
    "\n",
    "# define the ode system as given in the SIR problem\n",
    "def sir(t,y):\n",
    "    S = y[0]\n",
    "    I = y[1]\n",
    "    R = y[2]\n",
    "    \n",
    "    dS_dt = -r*S*I\n",
    "    dI_dt = r*S*I - a*I\n",
    "    dR_dt = a*I\n",
    "    \n",
    "    return np.array([dS_dt, dI_dt, dR_dt])\n",
    "\n",
    "# solve the system\n",
    "sol = solve_ivp(sir, (t0,tf), y0, t_eval=np.arange(t0, tf+.1, 0.5))\n",
    "\n",
    "# plot t against y[0], y[1], and y[2]\n",
    "plt.plot(sol.t, sol.y[0]/N, 'black', label='Susceptible')\n",
    "plt.plot(sol.t, sol.y[1]/N, 'r', label='Infected')\n",
    "plt.plot(sol.t, sol.y[2]/N, 'blue', label='Recovered')\n",
    "plt.xlabel('Days since Mar 11')\n",
    "plt.ylabel('Proportion of Population')\n",
    "plt.title('Modeling Covid-19 in NYC using b=1')\n",
    "plt.legend()\n",
    "plt.show()"
   ]
  },
  {
   "cell_type": "code",
   "execution_count": null,
   "metadata": {},
   "outputs": [],
   "source": [
    "# np.where(sol.y[1]==sol.y[1].max()) --> (array([13], dtype=int64),)\n",
    "\n",
    "# sol.y[0][13] --> 262063.4859615859 ~ 262_063 susceptibles\n",
    "# sol.y[0][13]/N --> 0.031201748536919382 ~ 3.12%\n",
    "\n",
    "# sol.y[2][13] --> 1163682.801569918 ~ 1_163_683 recovereds\n",
    "# sol.y[2][13]/N --> 0.1385501609203379 ~ 13.86%"
   ]
  },
  {
   "cell_type": "code",
   "execution_count": null,
   "metadata": {},
   "outputs": [],
   "source": [
    "# USING b = 0.1\n",
    "\n",
    "# Given N, d, k, b\n",
    "N = 8_399_000\n",
    "d = 10\n",
    "k = 2.5\n",
    "b = 0.1\n",
    "\n",
    "# define the r, a parameters\n",
    "r = (k*b)/N\n",
    "a = 1/d\n",
    "\n",
    "# define the t0 and tf parameters\n",
    "t0 = 0\n",
    "tf = 150\n",
    "\n",
    "#define the initial conditions\n",
    "S_0 = N-I_0\n",
    "I_0 = 52\n",
    "R_0 = 0\n",
    "y0 = np.array([S_0, I_0, R_0])\n",
    "\n",
    "# define the ode system as given in the SIR problem\n",
    "def sir(t,y):\n",
    "    S = y[0]\n",
    "    I = y[1]\n",
    "    R = y[2]\n",
    "    \n",
    "    dS_dt = -r*S*I\n",
    "    dI_dt = r*S*I - a*I\n",
    "    dR_dt = a*I\n",
    "    \n",
    "    return np.array([dS_dt, dI_dt, dR_dt])\n",
    "\n",
    "# solve the system\n",
    "sol = solve_ivp(sir, (t0,tf), y0, t_eval=np.arange(t0, tf+.1, 0.5))\n",
    "\n",
    "# plot t against y[0], y[1], and y[2]\n",
    "plt.plot(sol.t, sol.y[0]/N, 'black', label='Susceptible')\n",
    "plt.plot(sol.t, sol.y[1]/N, 'r', label='Infected')\n",
    "plt.plot(sol.t, sol.y[2]/N, 'blue', label='Recovered')\n",
    "plt.xlabel('Days since Mar 11')\n",
    "plt.ylabel('Proportion of Population')\n",
    "plt.title('Modeling Covid-19 in NYC using b=0.1')\n",
    "plt.legend()\n",
    "plt.show()"
   ]
  },
  {
   "cell_type": "code",
   "execution_count": null,
   "metadata": {},
   "outputs": [],
   "source": [
    "# np.where(sol.y[1]==sol.y[1].max()) #--> (array([165], dtype=int64),)\n",
    "\n",
    "# sol.y[0][165] --> 3391018.66664382 ~ 3_391_019 susceptibles\n",
    "# sol.y[0][165]/N --> 0.40374076278650073 ~ 40.37%\n",
    "\n",
    "# sol.y[2][165] --> 3045881.4793424676 ~ 3_045_881 recovereds\n",
    "# sol.y[2][165]/N --> 0.362648110411057 ~ 36.26%"
   ]
  },
  {
   "cell_type": "code",
   "execution_count": null,
   "metadata": {},
   "outputs": [],
   "source": []
  },
  {
   "cell_type": "markdown",
   "metadata": {},
   "source": [
    "## Problem 3\n"
   ]
  },
  {
   "cell_type": "code",
   "execution_count": null,
   "metadata": {},
   "outputs": [],
   "source": [
    "# Given N, d, k, b, f, mu\n",
    "N = 7_000_000_000\n",
    "d = 10\n",
    "k = 1/2\n",
    "b = 1\n",
    "f = 1/50\n",
    "mu = 0.0001\n",
    "\n",
    "# define the r, a parameters\n",
    "a = 1/d\n",
    "r = (k*b)/N\n",
    "\n",
    "# define the t0 and tf parameters\n",
    "t0 = 0\n",
    "tf = 365\n",
    "\n",
    "#define the initial conditions\n",
    "S_0 = N-1000\n",
    "I_0 = 1000\n",
    "R_0 = 0\n",
    "y0 = np.array([S_0, I_0, R_0])\n",
    "\n",
    "# define the ode system as given in the SIR problem\n",
    "def sirs(t,y):\n",
    "    S = y[0]\n",
    "    I = y[1]\n",
    "    R = y[2]\n",
    "    \n",
    "    dS_dt = f*R + mu*(1 - S) - r*S*I\n",
    "    dI_dt = r*S*I - (a + mu)*I\n",
    "    dR_dt = -f*R + a*I - mu*R\n",
    "    \n",
    "    return np.array([dS_dt, dI_dt, dR_dt])\n",
    "\n",
    "# solve the system\n",
    "sol = solve_ivp(sirs, (t0,tf), y0, t_eval=np.arange(t0, tf+.1, 0.5))\n",
    "\n",
    "# plot t against y[0], y[1], and y[2]\n",
    "plt.plot(sol.t, sol.y[0]/N, label='Susceptible')\n",
    "plt.plot(sol.t, sol.y[1]/N, label='Infected')\n",
    "plt.plot(sol.t, sol.y[2]/N, label='Recovered')\n",
    "plt.xlabel('Day')\n",
    "plt.ylabel('Proportion of Population')\n",
    "plt.legend()\n",
    "plt.show()"
   ]
  }
 ],
 "metadata": {
  "kernelspec": {
   "display_name": "Python 3",
   "language": "python",
   "name": "python3"
  },
  "language_info": {
   "codemirror_mode": {
    "name": "ipython",
    "version": 3
   },
   "file_extension": ".py",
   "mimetype": "text/x-python",
   "name": "python",
   "nbconvert_exporter": "python",
   "pygments_lexer": "ipython3",
   "version": "3.8.3"
  }
 },
 "nbformat": 4,
 "nbformat_minor": 4
}
